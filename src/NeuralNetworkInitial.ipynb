{
  "nbformat": 4,
  "nbformat_minor": 0,
  "metadata": {
    "colab": {
      "name": "NeuralNetworkInitial.ipynb",
      "provenance": [],
      "include_colab_link": true
    },
    "kernelspec": {
      "name": "python3",
      "display_name": "Python 3"
    },
    "accelerator": "GPU"
  },
  "cells": [
    {
      "cell_type": "markdown",
      "metadata": {
        "id": "view-in-github",
        "colab_type": "text"
      },
      "source": [
        "<a href=\"https://colab.research.google.com/github/TheBestCVTeam/NeuralNetworkInitial/blob/feature%2FChester/src/NeuralNetworkInitial.ipynb\" target=\"_parent\"><img src=\"https://colab.research.google.com/assets/colab-badge.svg\" alt=\"Open In Colab\"/></a>"
      ]
    },
    {
      "cell_type": "markdown",
      "metadata": {
        "id": "JDxczoCERRsN"
      },
      "source": [
        "#Individual Settings"
      ]
    },
    {
      "cell_type": "markdown",
      "metadata": {
        "id": "dE5e55LOxRzf"
      },
      "source": [
        "Google Drive Imports"
      ]
    },
    {
      "cell_type": "code",
      "metadata": {
        "id": "qMbDIoK3xQK9"
      },
      "source": [
        "from google.colab import drive"
      ],
      "execution_count": null,
      "outputs": []
    },
    {
      "cell_type": "code",
      "metadata": {
        "id": "M8LlzO0busLH"
      },
      "source": [
        "#@title Control flush and unmount { run: \"auto\", display-mode: \"form\" }\n",
        "\n",
        "\n",
        "#@markdown ### If enabled will attempt to unmount google drive folder\n",
        "should_flush_and_unmount = False #@param {type:\"boolean\"}\n",
        "\n",
        "#@markdown ---\n",
        "#@markdown ### Controls which folder in Google Drive code will be taken from\n",
        "user_folder = 'cwyke' #@param [\"develop\", \"andres15\", \"beixuan\", \"cwyke\", \"henil\", \"klush\", \"tedlasai\", \"varun333\"]\n",
        "if should_flush_and_unmount:\n",
        "  print(\"Warning: Configured to unmount from google drive\")\n",
        "print('Selected folder is: ', user_folder)"
      ],
      "execution_count": null,
      "outputs": []
    },
    {
      "cell_type": "code",
      "metadata": {
        "id": "cUliW-qhRKKa"
      },
      "source": [
        "if should_flush_and_unmount:\n",
        "  drive.flush_and_unmount()"
      ],
      "execution_count": null,
      "outputs": []
    },
    {
      "cell_type": "markdown",
      "metadata": {
        "id": "qKzQaOS8-K1f"
      },
      "source": [
        "#Connect to google drive"
      ]
    },
    {
      "cell_type": "code",
      "metadata": {
        "id": "I6YSReDk3u_t"
      },
      "source": [
        "drive.mount('/content/drive')"
      ],
      "execution_count": null,
      "outputs": []
    },
    {
      "cell_type": "markdown",
      "metadata": {
        "id": "ZblUv6dX-Vzk"
      },
      "source": [
        "Set Directory"
      ]
    },
    {
      "cell_type": "code",
      "metadata": {
        "id": "c4TSCoCQ-bP4"
      },
      "source": [
        "%cd /content/drive/My\\ Drive/4422_Project/repos/NeuralNetworkInitial/$user_folder"
      ],
      "execution_count": null,
      "outputs": []
    },
    {
      "cell_type": "markdown",
      "metadata": {
        "id": "zUH8FIJh-154"
      },
      "source": [
        "#Code"
      ]
    },
    {
      "cell_type": "markdown",
      "metadata": {
        "id": "s1etLqUL-8Ye"
      },
      "source": [
        "##Imports"
      ]
    },
    {
      "cell_type": "markdown",
      "metadata": {
        "id": "rqLfQ7b6vx8u"
      },
      "source": [
        "###Enable Auto Reload"
      ]
    },
    {
      "cell_type": "code",
      "metadata": {
        "id": "l_I_ZGB2_FAI"
      },
      "source": [
        "%load_ext autoreload\n",
        "%autoreload 2"
      ],
      "execution_count": null,
      "outputs": []
    },
    {
      "cell_type": "markdown",
      "metadata": {
        "id": "KrXdNEzoqYg6"
      },
      "source": [
        "###Import libs for code in Colab"
      ]
    },
    {
      "cell_type": "code",
      "metadata": {
        "id": "GBTO37rbqdXh"
      },
      "source": [
        "from pathlib import Path\n",
        "from torchvision import transforms"
      ],
      "execution_count": null,
      "outputs": []
    },
    {
      "cell_type": "markdown",
      "metadata": {
        "id": "JeXE6UTiv6rc"
      },
      "source": [
        "###Import Config"
      ]
    },
    {
      "cell_type": "code",
      "metadata": {
        "id": "D1BVSL4HwDRW"
      },
      "source": [
        "from src.local.loc_folders import LocFolders\n",
        "from src.utils.config import Conf"
      ],
      "execution_count": null,
      "outputs": []
    },
    {
      "cell_type": "markdown",
      "metadata": {
        "id": "8G3h9ZA9wKfy"
      },
      "source": [
        "###Import Main to be able to run code"
      ]
    },
    {
      "cell_type": "code",
      "metadata": {
        "id": "s-_e2nGlvqyz"
      },
      "source": [
        "import src.main_ as main"
      ],
      "execution_count": null,
      "outputs": []
    },
    {
      "cell_type": "markdown",
      "metadata": {
        "id": "7ggVJh-imUam"
      },
      "source": [
        "##Copy Dataset to VM and extract"
      ]
    },
    {
      "cell_type": "markdown",
      "metadata": {
        "id": "j8A7LiEKmdCi"
      },
      "source": [
        "Copy zip file to VM"
      ]
    },
    {
      "cell_type": "code",
      "metadata": {
        "id": "fmcYCoeSqwGE"
      },
      "source": [
        "data_dir = LocFolders.BASE_WORKING_DATASET_FOLDER\n",
        "Path(data_dir).mkdir(parents=True, exist_ok=True)\n",
        "!cp ../data/CelebA_Spoof.zip $data_dir"
      ],
      "execution_count": null,
      "outputs": []
    },
    {
      "cell_type": "markdown",
      "metadata": {
        "id": "7CjEBeL2rnJo"
      },
      "source": [
        "Extract and delete zip file"
      ]
    },
    {
      "cell_type": "code",
      "metadata": {
        "id": "-vxjwZ-nrqiV"
      },
      "source": [
        "zip_filename = data_dir + Conf.CreateBundle.FileLocations.OUT_ZIP_FILENAME_BASE + '.zip'\n",
        "#Redirect STDOUT to null instead of listing all files\n",
        "!unzip $zip_filename -d $data_dir > /dev/null\n",
        "%rm $zip_filename"
      ],
      "execution_count": null,
      "outputs": []
    },
    {
      "cell_type": "markdown",
      "metadata": {
        "id": "rSxOsCdA7RoM"
      },
      "source": [
        "Setting num_cnn_layers dictates the nuber fo cnn layers that the model uses. \n",
        "\n",
        "`num_cnn_layers = 4` is equivalent to the original AENet model"
      ]
    },
    {
      "cell_type": "markdown",
      "metadata": {
        "id": "yagDd05w-_As"
      },
      "source": [
        "##Run Experiments"
      ]
    },
    {
      "cell_type": "code",
      "metadata": {
        "id": "nVxKJ3WU_CO1"
      },
      "source": [
        "main.initialize()\n",
        "log(\"Colab Main Started Section Started\")\n"
      ],
      "execution_count": null,
      "outputs": []
    },
    {
      "cell_type": "code",
      "metadata": {
        "id": "dc0iE4At5fXd"
      },
      "source": [
        "main.load_checkpoint_from_paper()\n",
        "main.train_and_evaluate_models()"
      ],
      "execution_count": null,
      "outputs": []
    },
    {
      "cell_type": "code",
      "metadata": {
        "id": "Uv6FUspyzJ5V"
      },
      "source": [
        "main.finalize()"
      ],
      "execution_count": null,
      "outputs": []
    }
  ]
}